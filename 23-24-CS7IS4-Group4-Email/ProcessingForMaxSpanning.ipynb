{
 "cells": [
  {
   "cell_type": "code",
   "execution_count": 59,
   "metadata": {},
   "outputs": [],
   "source": [
    "import numpy as np\n",
    "import pandas as pd \n",
    "import seaborn as sns\n",
    "import matplotlib.pyplot as plt\n",
    "import re\n",
    "import os, sys, email\n",
    "import numpy as np \n",
    "import pandas as pd\n",
    "import csv\n",
    "from tqdm import tqdm\n",
    "import pandas as pd\n",
    "\n",
    "from subprocess import check_output"
   ]
  },
  {
   "cell_type": "code",
   "execution_count": 60,
   "metadata": {},
   "outputs": [],
   "source": [
    "path = 'Sender-receiver-weight-cluster.csv'\n",
    "email_weightCluster_df = pd.read_csv(path)"
   ]
  },
  {
   "cell_type": "code",
   "execution_count": 61,
   "metadata": {},
   "outputs": [
    {
     "data": {
      "text/html": [
       "<div>\n",
       "<style scoped>\n",
       "    .dataframe tbody tr th:only-of-type {\n",
       "        vertical-align: middle;\n",
       "    }\n",
       "\n",
       "    .dataframe tbody tr th {\n",
       "        vertical-align: top;\n",
       "    }\n",
       "\n",
       "    .dataframe thead th {\n",
       "        text-align: right;\n",
       "    }\n",
       "</style>\n",
       "<table border=\"1\" class=\"dataframe\">\n",
       "  <thead>\n",
       "    <tr style=\"text-align: right;\">\n",
       "      <th></th>\n",
       "      <th>Sender</th>\n",
       "      <th>Receiver</th>\n",
       "      <th>Weight</th>\n",
       "      <th>Cluster group</th>\n",
       "    </tr>\n",
       "  </thead>\n",
       "  <tbody>\n",
       "    <tr>\n",
       "      <th>0</th>\n",
       "      <td>Richard Shapiro</td>\n",
       "      <td>Leslie Lawner</td>\n",
       "      <td>2</td>\n",
       "      <td>1.0</td>\n",
       "    </tr>\n",
       "    <tr>\n",
       "      <th>1</th>\n",
       "      <td>Richard Shapiro</td>\n",
       "      <td>Sandra McCubbin</td>\n",
       "      <td>2</td>\n",
       "      <td>1.0</td>\n",
       "    </tr>\n",
       "    <tr>\n",
       "      <th>2</th>\n",
       "      <td>Richard Shapiro</td>\n",
       "      <td>Jeff Dasovich</td>\n",
       "      <td>97</td>\n",
       "      <td>1.0</td>\n",
       "    </tr>\n",
       "    <tr>\n",
       "      <th>3</th>\n",
       "      <td>Richard Shapiro</td>\n",
       "      <td>Linda Robertson</td>\n",
       "      <td>7</td>\n",
       "      <td>1.0</td>\n",
       "    </tr>\n",
       "    <tr>\n",
       "      <th>4</th>\n",
       "      <td>Richard Shapiro</td>\n",
       "      <td>Paul Kaufman</td>\n",
       "      <td>7</td>\n",
       "      <td>1.0</td>\n",
       "    </tr>\n",
       "    <tr>\n",
       "      <th>...</th>\n",
       "      <td>...</td>\n",
       "      <td>...</td>\n",
       "      <td>...</td>\n",
       "      <td>...</td>\n",
       "    </tr>\n",
       "    <tr>\n",
       "      <th>4503</th>\n",
       "      <td>Benjamin Rogers</td>\n",
       "      <td>Randall Martin</td>\n",
       "      <td>4</td>\n",
       "      <td>9.0</td>\n",
       "    </tr>\n",
       "    <tr>\n",
       "      <th>4504</th>\n",
       "      <td>Benjamin Rogers</td>\n",
       "      <td>Michelle Kelso</td>\n",
       "      <td>2</td>\n",
       "      <td>9.0</td>\n",
       "    </tr>\n",
       "    <tr>\n",
       "      <th>4505</th>\n",
       "      <td>Kerri Thompson</td>\n",
       "      <td>Kate Symes</td>\n",
       "      <td>684</td>\n",
       "      <td>13.0</td>\n",
       "    </tr>\n",
       "    <tr>\n",
       "      <th>4506</th>\n",
       "      <td>Kerri Thompson</td>\n",
       "      <td>Carla Hoffman</td>\n",
       "      <td>15</td>\n",
       "      <td>13.0</td>\n",
       "    </tr>\n",
       "    <tr>\n",
       "      <th>4507</th>\n",
       "      <td>Evelyn Metoyer</td>\n",
       "      <td>Kate Symes</td>\n",
       "      <td>788</td>\n",
       "      <td>13.0</td>\n",
       "    </tr>\n",
       "  </tbody>\n",
       "</table>\n",
       "<p>4508 rows × 4 columns</p>\n",
       "</div>"
      ],
      "text/plain": [
       "               Sender         Receiver  Weight  Cluster group\n",
       "0     Richard Shapiro    Leslie Lawner       2            1.0\n",
       "1     Richard Shapiro  Sandra McCubbin       2            1.0\n",
       "2     Richard Shapiro    Jeff Dasovich      97            1.0\n",
       "3     Richard Shapiro  Linda Robertson       7            1.0\n",
       "4     Richard Shapiro     Paul Kaufman       7            1.0\n",
       "...               ...              ...     ...            ...\n",
       "4503  Benjamin Rogers   Randall Martin       4            9.0\n",
       "4504  Benjamin Rogers   Michelle Kelso       2            9.0\n",
       "4505   Kerri Thompson       Kate Symes     684           13.0\n",
       "4506   Kerri Thompson    Carla Hoffman      15           13.0\n",
       "4507   Evelyn Metoyer       Kate Symes     788           13.0\n",
       "\n",
       "[4508 rows x 4 columns]"
      ]
     },
     "execution_count": 61,
     "metadata": {},
     "output_type": "execute_result"
    }
   ],
   "source": [
    "email_weightCluster_df"
   ]
  },
  {
   "cell_type": "code",
   "execution_count": 62,
   "metadata": {},
   "outputs": [],
   "source": [
    "# select the \"Sender\" and \"Receiver\" column in original df and make it whole list . Then use set operation to unqiue the name\n",
    "unique_names = set(email_weightCluster_df['Sender'].tolist() + email_weightCluster_df['Receiver'].tolist())"
   ]
  },
  {
   "cell_type": "code",
   "execution_count": 63,
   "metadata": {},
   "outputs": [],
   "source": [
    "# Use this list as the name list . Then map the name in the namelist into the ordinal number from 1.\n",
    "name_to_id = {name: idx + 1 for idx, name in enumerate(unique_names)}\n"
   ]
  },
  {
   "cell_type": "code",
   "execution_count": 64,
   "metadata": {},
   "outputs": [],
   "source": [
    "mapid_df = pd.DataFrame(list(name_to_id.items()), columns=['Name', 'Map ID'])\n"
   ]
  },
  {
   "cell_type": "code",
   "execution_count": 65,
   "metadata": {},
   "outputs": [
    {
     "name": "stderr",
     "output_type": "stream",
     "text": [
      "Writing rows: 100%|██████████| 2492/2492 [00:00<00:00, 215034.99it/s]\n"
     ]
    }
   ],
   "source": [
    "\n",
    "mapdic_list = [mapid_df.columns.tolist()] + mapid_df.values.tolist()\n",
    "\n",
    "final_intermidate_save_name = 'Name-OrindalNumberMapDictionary.csv'\n",
    "\n",
    "with open(final_intermidate_save_name, mode='w', newline='') as file:\n",
    "    writer = csv.writer(file)\n",
    "\n",
    "    \n",
    "    for row in tqdm(mapdic_list, desc=\"Writing rows\"):\n",
    "        writer.writerow(row)\n"
   ]
  },
  {
   "cell_type": "code",
   "execution_count": 66,
   "metadata": {},
   "outputs": [],
   "source": [
    "copy_originalDF = email_weightCluster_df.copy()\n"
   ]
  },
  {
   "cell_type": "code",
   "execution_count": 67,
   "metadata": {},
   "outputs": [],
   "source": [
    "copy_originalDF['Sender'] = copy_originalDF['Sender'].map(name_to_id)\n",
    "copy_originalDF['Receiver'] = copy_originalDF['Receiver'].map(name_to_id)"
   ]
  },
  {
   "cell_type": "code",
   "execution_count": 68,
   "metadata": {},
   "outputs": [
    {
     "name": "stderr",
     "output_type": "stream",
     "text": [
      "Writing rows: 100%|██████████| 4509/4509 [00:00<00:00, 414121.85it/s]\n"
     ]
    }
   ],
   "source": [
    "# Generate a new dataset\n",
    "ordinalNodelist = [copy_originalDF.columns.tolist()] + copy_originalDF.values.tolist()\n",
    "\n",
    "final_intermidate_save_name = 'OrdinalNode-forMaxSpaningTree.csv'\n",
    "\n",
    "with open(final_intermidate_save_name, mode='w', newline='') as file:\n",
    "    writer = csv.writer(file)\n",
    "\n",
    " \n",
    "    for row in tqdm(ordinalNodelist, desc=\"Writing rows\"):\n",
    "        writer.writerow(row)\n"
   ]
  }
 ],
 "metadata": {
  "kernelspec": {
   "display_name": "base",
   "language": "python",
   "name": "python3"
  },
  "language_info": {
   "codemirror_mode": {
    "name": "ipython",
    "version": 3
   },
   "file_extension": ".py",
   "mimetype": "text/x-python",
   "name": "python",
   "nbconvert_exporter": "python",
   "pygments_lexer": "ipython3",
   "version": "3.11.5"
  }
 },
 "nbformat": 4,
 "nbformat_minor": 2
}
